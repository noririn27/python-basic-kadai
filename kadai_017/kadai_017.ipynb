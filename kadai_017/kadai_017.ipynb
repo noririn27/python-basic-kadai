{
  "nbformat": 4,
  "nbformat_minor": 0,
  "metadata": {
    "colab": {
      "provenance": []
    },
    "kernelspec": {
      "name": "python3",
      "display_name": "Python 3"
    },
    "language_info": {
      "name": "python"
    }
  },
  "cells": [
    {
      "cell_type": "code",
      "source": [
        "class Human:\n",
        "  def __init__(self, name, age):\n",
        "    self.name = name\n",
        "    self.age = age\n",
        "\n",
        "  def check_adult(self):\n",
        "    if self.age >= 20:\n",
        "      print(\"大人\")\n",
        "    else:\n",
        "      print(\"未成年\")\n",
        "\n",
        "human01 = Human(\"一郎\", 30)\n",
        "human02 = Human(\"二郎\", 20)\n",
        "human03 = Human(\"三郎\", 19)\n",
        "\n",
        "humans = [\n",
        "    human01,\n",
        "    human02,\n",
        "    human03,\n",
        "]\n",
        "\n",
        "for human in humans:\n",
        "  human.check_adult()\n",
        "\n"
      ],
      "metadata": {
        "colab": {
          "base_uri": "https://localhost:8080/"
        },
        "id": "cbc7OBJBXG5L",
        "outputId": "72b3d694-516a-44fe-daf3-1331114e632c"
      },
      "execution_count": 22,
      "outputs": [
        {
          "output_type": "stream",
          "name": "stdout",
          "text": [
            "大人\n",
            "大人\n",
            "未成年\n"
          ]
        }
      ]
    }
  ]
}