{
  "nbformat": 4,
  "nbformat_minor": 0,
  "metadata": {
    "colab": {
      "provenance": []
    },
    "kernelspec": {
      "name": "python3",
      "display_name": "Python 3"
    },
    "language_info": {
      "name": "python"
    }
  },
  "cells": [
    {
      "cell_type": "code",
      "source": [
        "zyoutei = 10\n",
        "katei = 20\n",
        "height = 5\n",
        "\n",
        "result = (zyoutei + katei) * height / 2\n",
        "\n",
        "print(f\"{result}cm²\")"
      ],
      "metadata": {
        "colab": {
          "base_uri": "https://localhost:8080/"
        },
        "id": "SsXrvBTWBvxj",
        "outputId": "8fecf82f-0470-4bec-a33c-4cfaa9a2eedf"
      },
      "execution_count": 20,
      "outputs": [
        {
          "output_type": "stream",
          "name": "stdout",
          "text": [
            "75.0cm²\n"
          ]
        }
      ]
    }
  ]
}